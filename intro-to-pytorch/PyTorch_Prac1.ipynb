{
 "cells": [
  {
   "cell_type": "code",
   "execution_count": 3,
   "id": "d1c5fba8-9818-491c-a2ec-f8394f8146cc",
   "metadata": {
    "tags": []
   },
   "outputs": [],
   "source": [
    "import numpy as np\n",
    "import torch"
   ]
  },
  {
   "cell_type": "code",
   "execution_count": 2,
   "id": "211f6f6f-1e89-49d9-9f5b-a0d828f5f056",
   "metadata": {
    "tags": []
   },
   "outputs": [
    {
     "data": {
      "text/plain": [
       "tensor([[ 0.0895, -0.0288, -0.2906],\n",
       "        [-0.1886,  0.0820,  0.0108],\n",
       "        [ 0.0879, -0.0832,  0.0205]])"
      ]
     },
     "execution_count": 2,
     "metadata": {},
     "output_type": "execute_result"
    }
   ],
   "source": [
    "torch.empty(3,3).normal_(mean = 0, std = 0.1)"
   ]
  },
  {
   "cell_type": "code",
   "execution_count": 3,
   "id": "5a07dafc-ade7-4af4-8cb6-fd1911c7900d",
   "metadata": {},
   "outputs": [],
   "source": [
    "from torch import nn\n",
    "import torch.nn.functional as F\n",
    "from torchvision import datasets, transforms\n",
    "\n",
    "# Define a transform to normalize the data\n",
    "transform = transforms.Compose([transforms.ToTensor(),\n",
    "                                transforms.Normalize((0.5,), (0.5,)),\n",
    "                              ])\n",
    "# Download and load the training data\n",
    "trainset = datasets.MNIST('~/.pytorch/MNIST_data/', download=True, train=True, transform=transform)\n",
    "trainloader = torch.utils.data.DataLoader(trainset, batch_size=64, shuffle=True)"
   ]
  },
  {
   "cell_type": "code",
   "execution_count": 4,
   "id": "eca1acc6-5fb4-40c0-8e54-3d905fc7e510",
   "metadata": {
    "tags": []
   },
   "outputs": [
    {
     "name": "stdout",
     "output_type": "stream",
     "text": [
      "tensor(2.2871, grad_fn=<NllLossBackward0>)\n"
     ]
    }
   ],
   "source": [
    "# Build a feed-forward network\n",
    "model = nn.Sequential(nn.Linear(784, 128),\n",
    "                      nn.ReLU(),\n",
    "                      nn.Linear(128, 64),\n",
    "                      nn.ReLU(),\n",
    "                      nn.Linear(64, 10),\n",
    "                      nn.LogSoftmax(dim = 1))\n",
    "\n",
    "# Define the loss\n",
    "criterion = nn.NLLLoss()\n",
    "\n",
    "# Get our data\n",
    "dataiter = iter(trainloader)\n",
    "\n",
    "images, labels = next(dataiter)\n",
    "\n",
    "# Flatten images\n",
    "images = images.view(images.shape[0], -1)\n",
    "\n",
    "# Forward pass, get our logits\n",
    "logits = model(images)\n",
    "# Calculate the loss with the logits and the labels\n",
    "loss = criterion(logits, labels)\n",
    "\n",
    "print(loss)"
   ]
  },
  {
   "cell_type": "code",
   "execution_count": 5,
   "id": "fb662e83-7edf-4959-b6a2-fdbf0e2cb1c2",
   "metadata": {
    "tags": []
   },
   "outputs": [
    {
     "name": "stdout",
     "output_type": "stream",
     "text": [
      "torch.Size([64, 10])\n",
      "torch.Size([64])\n"
     ]
    }
   ],
   "source": [
    "print(logits.shape)\n",
    "print(labels.shape)"
   ]
  },
  {
   "cell_type": "code",
   "execution_count": 6,
   "id": "560465a9-199e-42c9-ac27-e46d8b6acf22",
   "metadata": {
    "tags": []
   },
   "outputs": [
    {
     "data": {
      "text/plain": [
       "tensor(2.2871, grad_fn=<NllLossBackward0>)"
      ]
     },
     "execution_count": 6,
     "metadata": {},
     "output_type": "execute_result"
    }
   ],
   "source": [
    "x = nn.NLLLoss()\n",
    "x(logits, labels)"
   ]
  },
  {
   "cell_type": "code",
   "execution_count": 7,
   "id": "51163ac5-7f49-4ad2-acba-be7169948fea",
   "metadata": {
    "tags": []
   },
   "outputs": [
    {
     "data": {
      "text/plain": [
       "tensor([8, 8, 2, 9, 6, 4, 8, 1, 4, 4, 7, 4, 5, 8, 1, 8, 1, 2, 3, 7, 0, 6, 1, 7,\n",
       "        0, 9, 1, 0, 9, 6, 6, 7, 2, 5, 8, 4, 0, 7, 7, 4, 7, 5, 1, 9, 1, 2, 4, 7,\n",
       "        4, 1, 9, 9, 2, 6, 3, 2, 0, 4, 0, 8, 8, 1, 2, 2])"
      ]
     },
     "execution_count": 7,
     "metadata": {},
     "output_type": "execute_result"
    }
   ],
   "source": [
    "labels"
   ]
  },
  {
   "cell_type": "code",
   "execution_count": 8,
   "id": "4e279aaa-58b3-4f0d-9334-26d5d77a6750",
   "metadata": {
    "tags": []
   },
   "outputs": [],
   "source": [
    "m = nn.LogSoftmax(dim=1)\n",
    "loss = nn.NLLLoss()\n",
    "# input is of size N x C = 3 x 5\n",
    "input = torch.randn(3, 5, requires_grad=True)\n",
    "# each element in target has to have 0 <= value < C\n",
    "target = torch.tensor([1, 0, 4])\n",
    "output = loss(m(input), target)\n",
    "output.backward()\n",
    "# 2D loss example (used, for example, with image inputs)\n",
    "# N, C = 5, 4\n",
    "# loss = nn.NLLLoss()\n",
    "# # input is of size N x C x height x width\n",
    "# data = torch.randn(N, 16, 10, 10)\n",
    "# conv = nn.Conv2d(16, C, (3, 3))\n",
    "# m = nn.LogSoftmax(dim=1)\n",
    "# # each element in target has to have 0 <= value < C\n",
    "# target = torch.empty(N, 8, 8, dtype=torch.long).random_(0, C)\n",
    "# output = loss(m(conv(data)), target)\n",
    "# output.backward()"
   ]
  },
  {
   "cell_type": "code",
   "execution_count": 9,
   "id": "fa0d4239-9779-442a-94a1-b5957c4854c3",
   "metadata": {},
   "outputs": [
    {
     "data": {
      "text/plain": [
       "tensor([0., 1., 2., 3., 4.], requires_grad=True)"
      ]
     },
     "execution_count": 9,
     "metadata": {},
     "output_type": "execute_result"
    }
   ],
   "source": [
    "x = torch.arange(0., 5., requires_grad = True)\n",
    "x"
   ]
  },
  {
   "cell_type": "code",
   "execution_count": 10,
   "id": "3b5466c8-2d3b-4902-b9c2-d49d5b5f3ee2",
   "metadata": {
    "tags": []
   },
   "outputs": [
    {
     "name": "stdout",
     "output_type": "stream",
     "text": [
      "tensor(30., grad_fn=<DotBackward0>)\n"
     ]
    }
   ],
   "source": [
    "y = torch.dot(x, x)\n",
    "print(y)\n",
    "y.backward()"
   ]
  },
  {
   "cell_type": "code",
   "execution_count": 11,
   "id": "f9425611-0ce9-45a8-9083-7a52f9ca36b0",
   "metadata": {
    "tags": []
   },
   "outputs": [
    {
     "name": "stdout",
     "output_type": "stream",
     "text": [
      "tensor([0., 2., 4., 6., 8.])\n"
     ]
    }
   ],
   "source": [
    "print(x.grad)"
   ]
  },
  {
   "cell_type": "code",
   "execution_count": 12,
   "id": "33edf47a-711e-496b-ad35-5aa9b44e6dc1",
   "metadata": {
    "tags": []
   },
   "outputs": [
    {
     "name": "stdout",
     "output_type": "stream",
     "text": [
      "tensor(81200.)\n"
     ]
    },
    {
     "data": {
      "text/plain": [
       "False"
      ]
     },
     "execution_count": 12,
     "metadata": {},
     "output_type": "execute_result"
    }
   ],
   "source": [
    "x = torch.tensor(10., requires_grad = True)\n",
    "y = 2 * x ** 2 + 3\n",
    "# y.backward()\n",
    "# x.grad\n",
    "z = 5 * y ** 2 + 5\n",
    "z.backward()\n",
    "print(x.grad)\n",
    "y.is_leaf"
   ]
  },
  {
   "cell_type": "code",
   "execution_count": 14,
   "id": "97f3cfa6-7424-47d2-ae42-9860a074766c",
   "metadata": {
    "tags": []
   },
   "outputs": [],
   "source": [
    "# for i in range(5):\n",
    "#     y.backward(retain_graph=True)\n",
    "#     print(x.grad)\n",
    "    # x.grad.zero_()"
   ]
  },
  {
   "cell_type": "code",
   "execution_count": 15,
   "id": "e595104b-6dc5-4138-99ea-39dbcd2680ee",
   "metadata": {
    "tags": []
   },
   "outputs": [
    {
     "name": "stdout",
     "output_type": "stream",
     "text": [
      "tensor([1., 2., 3., 4., 5.], requires_grad=True)\n",
      "tensor(3., grad_fn=<MeanBackward0>)\n",
      "tensor([0.2000, 0.2000, 0.2000, 0.2000, 0.2000])\n"
     ]
    }
   ],
   "source": [
    "x = torch.arange(1.,6., requires_grad = True)\n",
    "print(x)\n",
    "y = x.mean()\n",
    "print(y)\n",
    "y.backward()\n",
    "print(x.grad)"
   ]
  },
  {
   "cell_type": "code",
   "execution_count": 16,
   "id": "d2c23912-25a7-4b5e-9407-778f1260949b",
   "metadata": {
    "tags": []
   },
   "outputs": [
    {
     "name": "stdout",
     "output_type": "stream",
     "text": [
      "tensor([1., 2., 3., 4., 5.], requires_grad=True)\n",
      "tensor([ 3.,  6., 11., 18., 27.], grad_fn=<AddBackward0>)\n"
     ]
    },
    {
     "data": {
      "text/plain": [
       "tensor([ 2.,  4.,  6.,  8., 10.])"
      ]
     },
     "execution_count": 16,
     "metadata": {},
     "output_type": "execute_result"
    }
   ],
   "source": [
    "x = torch.arange(1., 6., requires_grad = True)\n",
    "print(x)\n",
    "y = x ** 2 + 2\n",
    "print(y)\n",
    "y.backward(torch.ones(5))\n",
    "x.grad"
   ]
  },
  {
   "cell_type": "code",
   "execution_count": 17,
   "id": "43cd12ac-69be-4d4c-b0d4-ed7cfbc25338",
   "metadata": {
    "tags": []
   },
   "outputs": [
    {
     "data": {
      "text/plain": [
       "1"
      ]
     },
     "execution_count": 17,
     "metadata": {},
     "output_type": "execute_result"
    }
   ],
   "source": [
    "torch.tensor(1).item()"
   ]
  },
  {
   "cell_type": "code",
   "execution_count": 23,
   "id": "d08c5266-28e4-4ec1-9778-d0a40c10ca7c",
   "metadata": {
    "tags": []
   },
   "outputs": [],
   "source": [
    "import torch\n",
    "from torch import nn\n",
    "import torch.nn.functional as F"
   ]
  },
  {
   "cell_type": "code",
   "execution_count": 7,
   "id": "d2d0aeef-fa93-46cd-a49c-b3718e29aa7e",
   "metadata": {},
   "outputs": [],
   "source": [
    "class Network(nn.Module):\n",
    "    def __init__(self, input_size, output_size, hidden_layers, drop_p=0.5):\n",
    "        ''' Builds a feedforward network with arbitrary hidden layers.\n",
    "        \n",
    "            Arguments\n",
    "            ---------\n",
    "            input_size: integer, size of the input layer\n",
    "            output_size: integer, size of the output layer\n",
    "            hidden_layers: list of integers, the sizes of the hidden layers\n",
    "        \n",
    "        '''\n",
    "        super().__init__()\n",
    "        # Input to a hidden layer\n",
    "        self.hidden_layers = nn.ModuleList([nn.Linear(input_size, hidden_layers[0])])\n",
    "        \n",
    "        # Add a variable number of more hidden layers\n",
    "        layer_sizes = zip(hidden_layers[:-1], hidden_layers[1:])\n",
    "        self.hidden_layers.extend([nn.Linear(h1, h2) for h1, h2 in layer_sizes])\n",
    "        \n",
    "        self.output = nn.Linear(hidden_layers[-1], output_size)\n",
    "        \n",
    "        self.dropout = nn.Dropout(p=drop_p)\n",
    "        \n",
    "    def forward(self, x):\n",
    "        ''' Forward pass through the network, returns the output logits '''\n",
    "        \n",
    "        for each in self.hidden_layers:\n",
    "            x = F.relu(each(x))\n",
    "            x = self.dropout(x)\n",
    "        x = self.output(x)\n",
    "        \n",
    "        return F.log_softmax(x, dim=1)"
   ]
  },
  {
   "cell_type": "code",
   "execution_count": 8,
   "id": "00a15f4d-adf7-4763-9973-e88e9a039514",
   "metadata": {
    "tags": []
   },
   "outputs": [],
   "source": [
    "model = Network(784, 10, [512, 256, 128])"
   ]
  },
  {
   "cell_type": "code",
   "execution_count": 12,
   "id": "a27ecdcd-9d77-4c68-8a16-245881734609",
   "metadata": {
    "tags": []
   },
   "outputs": [
    {
     "data": {
      "text/plain": [
       "Linear(in_features=784, out_features=512, bias=True)"
      ]
     },
     "execution_count": 12,
     "metadata": {},
     "output_type": "execute_result"
    }
   ],
   "source": [
    "model.hidden_layers[0]"
   ]
  },
  {
   "cell_type": "code",
   "execution_count": 1,
   "id": "88a959cd-1253-45b4-a64d-fd9f468ef416",
   "metadata": {},
   "outputs": [],
   "source": [
    "# function to create a model\n",
    "# - Input layers, Output classes, hidden layers list, "
   ]
  },
  {
   "cell_type": "code",
   "execution_count": 4,
   "id": "0b4f28bb-922d-4f5d-875f-0a11a59ba470",
   "metadata": {
    "tags": []
   },
   "outputs": [],
   "source": [
    "import torch.nn as nn\n",
    "import torch.nn.functional as F"
   ]
  },
  {
   "cell_type": "code",
   "execution_count": 37,
   "id": "8860eaf1-b1fd-4944-8e84-444ce8fd9727",
   "metadata": {
    "tags": []
   },
   "outputs": [],
   "source": [
    "class Model_Creator(nn.Module):\n",
    "    def __init__(self, input_layers, output_layers, hidden_layer_list, drop_p = 0.3):\n",
    "        super().__init__()\n",
    "        \n",
    "        self.hidden_layer = nn.ModuleList([nn.Linear(input_layers, hidden_layer_list[0])])\n",
    "        \n",
    "        self.hidden_layer.extend([nn.Linear(hidden_layer_list[i], hidden_layer_list[i+1]) for i in range(len(hidden_layer_list)-1)])\n",
    "        \n",
    "        self.output_layer = nn.Linear(hidden_layer_list[-1], output_layers)\n",
    "        \n",
    "        self.dropout = nn.Dropout(drop_p)\n",
    "        \n",
    "    def forward(self, x):\n",
    "        \n",
    "        for layer in self.hidden_layer:\n",
    "            x = F.relu(layer(x))\n",
    "            x = self.dropout(x)\n",
    "        \n",
    "        x = self.output_layer(x)\n",
    "        \n",
    "        return f.log_softmax(x, dim = 1)"
   ]
  },
  {
   "cell_type": "code",
   "execution_count": 38,
   "id": "85b71103-7d2a-4d59-bed1-8a885c04618b",
   "metadata": {
    "tags": []
   },
   "outputs": [],
   "source": [
    "model1 = Model_Creator(784, 10, [512, 256, 128, 64, 32], 0.5)"
   ]
  },
  {
   "cell_type": "code",
   "execution_count": 39,
   "id": "be2c3ffc-12a5-4dee-85be-57e395fd4787",
   "metadata": {
    "tags": []
   },
   "outputs": [
    {
     "data": {
      "text/plain": [
       "Model_Creator(\n",
       "  (hidden_layer): ModuleList(\n",
       "    (0): Linear(in_features=784, out_features=512, bias=True)\n",
       "    (1): Linear(in_features=512, out_features=256, bias=True)\n",
       "    (2): Linear(in_features=256, out_features=128, bias=True)\n",
       "    (3): Linear(in_features=128, out_features=64, bias=True)\n",
       "    (4): Linear(in_features=64, out_features=32, bias=True)\n",
       "  )\n",
       "  (output_layer): Linear(in_features=32, out_features=10, bias=True)\n",
       "  (dropout): Dropout(p=0.5, inplace=False)\n",
       ")"
      ]
     },
     "execution_count": 39,
     "metadata": {},
     "output_type": "execute_result"
    }
   ],
   "source": [
    "model1"
   ]
  },
  {
   "cell_type": "code",
   "execution_count": 1,
   "id": "4e8767bf-7fd7-42c1-a702-21fe82957cde",
   "metadata": {},
   "outputs": [],
   "source": [
    "if 0.018306 <= 0.017168:\n",
    "    print('xdd')"
   ]
  },
  {
   "cell_type": "code",
   "execution_count": 15,
   "id": "81081a2c-f6e1-480d-b756-7b038f0460be",
   "metadata": {},
   "outputs": [],
   "source": [
    "import torch.nn as nn\n",
    "# pool of square window of size=3, stride=2\n",
    "m = nn.MaxPool2d(3, stride=2)\n",
    "# pool of non-square window\n",
    "m = nn.MaxPool2d(2, 4)\n",
    "input = torch.randn(1, 8, 8)\n",
    "output = m(input)"
   ]
  },
  {
   "cell_type": "code",
   "execution_count": 16,
   "id": "0516326d-3618-4126-8310-dac52a9b88ec",
   "metadata": {
    "tags": []
   },
   "outputs": [
    {
     "data": {
      "text/plain": [
       "torch.Size([1, 2, 2])"
      ]
     },
     "execution_count": 16,
     "metadata": {},
     "output_type": "execute_result"
    }
   ],
   "source": [
    "output.shape"
   ]
  },
  {
   "cell_type": "code",
   "execution_count": null,
   "id": "70c9c592-8cd6-4701-865c-b35b08dee24b",
   "metadata": {},
   "outputs": [],
   "source": []
  }
 ],
 "metadata": {
  "kernelspec": {
   "display_name": "Python 3 (ipykernel)",
   "language": "python",
   "name": "python3"
  },
  "language_info": {
   "codemirror_mode": {
    "name": "ipython",
    "version": 3
   },
   "file_extension": ".py",
   "mimetype": "text/x-python",
   "name": "python",
   "nbconvert_exporter": "python",
   "pygments_lexer": "ipython3",
   "version": "3.10.10"
  }
 },
 "nbformat": 4,
 "nbformat_minor": 5
}
