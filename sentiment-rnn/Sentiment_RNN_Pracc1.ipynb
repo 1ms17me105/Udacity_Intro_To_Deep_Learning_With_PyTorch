{
 "cells": [
  {
   "cell_type": "code",
   "execution_count": 1,
   "id": "edabe37c-d797-4149-8def-3cf231f6c7cd",
   "metadata": {
    "tags": []
   },
   "outputs": [],
   "source": [
    "import numpy as np"
   ]
  },
  {
   "cell_type": "code",
   "execution_count": 2,
   "id": "1e90b1b2-ea72-47e6-bac1-a635f9af8d8a",
   "metadata": {
    "tags": []
   },
   "outputs": [],
   "source": [
    "with open(\"data/reviews.txt\", \"r\") as f:\n",
    "    reviews = f.read()"
   ]
  },
  {
   "cell_type": "code",
   "execution_count": 4,
   "id": "09a3e857-77b1-4dfe-b924-faaa6c9d3880",
   "metadata": {
    "tags": []
   },
   "outputs": [
    {
     "data": {
      "text/plain": [
       "'bromwell high is a cartoon comedy . it ran at the '"
      ]
     },
     "execution_count": 4,
     "metadata": {},
     "output_type": "execute_result"
    }
   ],
   "source": [
    "reviews[:50]"
   ]
  },
  {
   "cell_type": "code",
   "execution_count": 5,
   "id": "9990d1ee-1d68-4c00-9eda-1a5826927a87",
   "metadata": {
    "tags": []
   },
   "outputs": [
    {
     "data": {
      "text/plain": [
       "33678267"
      ]
     },
     "execution_count": 5,
     "metadata": {},
     "output_type": "execute_result"
    }
   ],
   "source": [
    "len(reviews)"
   ]
  },
  {
   "cell_type": "code",
   "execution_count": 8,
   "id": "41b9f049-ea8b-4bf1-91ee-654fb63f9fc5",
   "metadata": {
    "tags": []
   },
   "outputs": [],
   "source": [
    "arr = np.array(reviews.split(\"\\n\"))"
   ]
  },
  {
   "cell_type": "code",
   "execution_count": 15,
   "id": "e4b6d883-c01b-4a92-8697-7933d0a87a6d",
   "metadata": {
    "tags": []
   },
   "outputs": [],
   "source": [
    "import re"
   ]
  },
  {
   "cell_type": "code",
   "execution_count": 22,
   "id": "5e515f89-aeaa-4fa0-9d1d-9b8bf597960b",
   "metadata": {
    "tags": []
   },
   "outputs": [
    {
     "data": {
      "text/plain": [
       "'bromwell high is a cartoon comedy  it ran at the same time as some other programs about school life  such as  teachers   my   years in the teaching profession lead me to believe that bromwell high  s satire is much closer to reality than is  teachers   the scramble to survive financially  the insightful students who can see right through their pathetic teachers  pomp  the pettiness of the whole situation  all remind me of the schools i knew and their students  when i saw the episode in which a student repeatedly tried to burn down the school  i immediately recalled          at           high  a classic line inspector i  m here to sack one of your teachers  student welcome to bromwell high  i expect that many adults of my age think that bromwell high is far fetched  what a pity that it isn  t   '"
      ]
     },
     "execution_count": 22,
     "metadata": {},
     "output_type": "execute_result"
    }
   ],
   "source": [
    "re.sub(\"\\.\", \"\", arr[0])"
   ]
  },
  {
   "cell_type": "code",
   "execution_count": null,
   "id": "a870be25-a626-430e-b9ea-dcf5f96cb72c",
   "metadata": {},
   "outputs": [],
   "source": []
  }
 ],
 "metadata": {
  "kernelspec": {
   "display_name": "Python 3 (ipykernel)",
   "language": "python",
   "name": "python3"
  },
  "language_info": {
   "codemirror_mode": {
    "name": "ipython",
    "version": 3
   },
   "file_extension": ".py",
   "mimetype": "text/x-python",
   "name": "python",
   "nbconvert_exporter": "python",
   "pygments_lexer": "ipython3",
   "version": "3.10.10"
  }
 },
 "nbformat": 4,
 "nbformat_minor": 5
}
